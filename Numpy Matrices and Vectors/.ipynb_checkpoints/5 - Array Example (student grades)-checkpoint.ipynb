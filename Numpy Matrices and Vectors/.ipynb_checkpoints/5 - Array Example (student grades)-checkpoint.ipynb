{
 "cells": [
  {
   "cell_type": "markdown",
   "metadata": {},
   "source": [
    "## Example of student grades\n",
    "- Start with a list of grades\n",
    "- Obtain the max, min, and average\n",
    "- Sort in ascending and descending order\n",
    "- Increase all grades by a % and by adding ones"
   ]
  },
  {
   "cell_type": "code",
   "execution_count": 2,
   "metadata": {},
   "outputs": [],
   "source": [
    "import numpy as np"
   ]
  },
  {
   "cell_type": "markdown",
   "metadata": {},
   "source": [
    "### Start with list of grades "
   ]
  },
  {
   "cell_type": "code",
   "execution_count": 3,
   "metadata": {},
   "outputs": [
    {
     "name": "stdout",
     "output_type": "stream",
     "text": [
      "[56 78 98 90 58 64 67 72 93 51]\n"
     ]
    }
   ],
   "source": [
    "student_grades = np.array([56, 78, 98, 90, 58, 64, 67, 72, 93, 51])\n",
    "print(student_grades)"
   ]
  },
  {
   "cell_type": "markdown",
   "metadata": {},
   "source": [
    "### Obtain the max, min and average "
   ]
  },
  {
   "cell_type": "code",
   "execution_count": 4,
   "metadata": {},
   "outputs": [
    {
     "name": "stdout",
     "output_type": "stream",
     "text": [
      "98\n"
     ]
    }
   ],
   "source": [
    "#Get max \n",
    "student_max = np.max(student_grades)\n",
    "print(student_max)"
   ]
  },
  {
   "cell_type": "code",
   "execution_count": 5,
   "metadata": {},
   "outputs": [
    {
     "name": "stdout",
     "output_type": "stream",
     "text": [
      "51\n"
     ]
    }
   ],
   "source": [
    "#Get min \n",
    "student_max_min = np.min(student_grades)\n",
    "print(student_max_min)"
   ]
  },
  {
   "cell_type": "code",
   "execution_count": 6,
   "metadata": {},
   "outputs": [
    {
     "name": "stdout",
     "output_type": "stream",
     "text": [
      "72.7\n"
     ]
    }
   ],
   "source": [
    "#Get average \n",
    "student_max_avg = np.average(student_grades)\n",
    "print(student_max_avg)"
   ]
  },
  {
   "cell_type": "code",
   "execution_count": 7,
   "metadata": {},
   "outputs": [
    {
     "name": "stdout",
     "output_type": "stream",
     "text": [
      "2\n",
      "9\n"
     ]
    }
   ],
   "source": [
    "# Finding the index of the max/min grade\n",
    "print(np.argmax(student_grades))\n",
    "print(np.argmin(student_grades))"
   ]
  },
  {
   "cell_type": "markdown",
   "metadata": {},
   "source": [
    "### Sort in ascending and descending order"
   ]
  },
  {
   "cell_type": "code",
   "execution_count": 8,
   "metadata": {},
   "outputs": [
    {
     "name": "stdout",
     "output_type": "stream",
     "text": [
      "[51 56 58 64 67 72 78 90 93 98]\n",
      "[98 93 90 78 72 67 64 58 56 51]\n"
     ]
    }
   ],
   "source": [
    "# Ascending order\n",
    "print(np.sort(student_grades))\n",
    "# Descending order\n",
    "print(-np.sort(-student_grades))"
   ]
  },
  {
   "cell_type": "markdown",
   "metadata": {},
   "source": [
    "### Increase all grades by a % and by adding ones\n",
    "Operations are applied to every set member"
   ]
  },
  {
   "cell_type": "code",
   "execution_count": 9,
   "metadata": {},
   "outputs": [
    {
     "name": "stdout",
     "output_type": "stream",
     "text": [
      "[ 98.   136.5  171.5  157.5  101.5  112.   117.25 126.   162.75  89.25]\n"
     ]
    }
   ],
   "source": [
    "# Increasing all grades by a %\n",
    "buffed_grades = student_grades * 1.75\n",
    "print(buffed_grades)"
   ]
  },
  {
   "cell_type": "code",
   "execution_count": 10,
   "metadata": {},
   "outputs": [
    {
     "name": "stdout",
     "output_type": "stream",
     "text": [
      "[57 79 99 91 59 65 68 73 94 52]\n"
     ]
    }
   ],
   "source": [
    "# Adding ones to the grades\n",
    "boosted_grades = student_grades + 1\n",
    "print(boosted_grades)"
   ]
  },
  {
   "cell_type": "code",
   "execution_count": 11,
   "metadata": {},
   "outputs": [
    {
     "name": "stdout",
     "output_type": "stream",
     "text": [
      "[57. 79. 99. 91. 59. 65. 68. 73. 94. 52.]\n"
     ]
    }
   ],
   "source": [
    "print(np.add(student_grades, np.ones(10)))"
   ]
  },
  {
   "cell_type": "code",
   "execution_count": 12,
   "metadata": {},
   "outputs": [
    {
     "name": "stdout",
     "output_type": "stream",
     "text": [
      "[ 57  80 101  94  63  70  74  80 102  61]\n"
     ]
    }
   ],
   "source": [
    "# Add the two arrays together. Requires length of both to be the same. \n",
    "print(np.add(student_grades, np.array([1,2,3,4,5,6,7,8,9,10])))"
   ]
  }
 ],
 "metadata": {
  "kernelspec": {
   "display_name": "Python 3",
   "language": "python",
   "name": "python3"
  },
  "language_info": {
   "codemirror_mode": {
    "name": "ipython",
    "version": 3
   },
   "file_extension": ".py",
   "mimetype": "text/x-python",
   "name": "python",
   "nbconvert_exporter": "python",
   "pygments_lexer": "ipython3",
   "version": "3.7.6"
  }
 },
 "nbformat": 4,
 "nbformat_minor": 4
}
