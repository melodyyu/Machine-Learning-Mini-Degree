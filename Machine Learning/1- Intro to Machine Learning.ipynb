{
 "cells": [
  {
   "cell_type": "markdown",
   "metadata": {},
   "source": [
    "## Intro to Machine Learning: <br>\n",
    "Questions we'll be able to answer after: \n",
    "- What is machine learning? \n",
    "- What can we do with machine learning? \n",
    "- What types of machine learning are there?\n",
    "- How do we build a machine learning model?\n",
    "- What is TensorFlow? \n",
    "- How can we use Tensorflow to build, train and test a ML program?\n",
    "\n",
    "Topics:\n",
    "- Intro to ML\n",
    "- How ML works\n",
    "- Intro to TensorFlow \n",
    "- Exploring Tensorflow components\n",
    "- Use TensorFlow to build, rain and test a ML model\n",
    "\n",
    "Benefits of ML: \n",
    "- Will likely be integrated in upcoming daily life \n",
    "- Allows for better customization of software to user\n",
    "- Often more efficient than trying to create an algorithm to solve the program directly (ie iff statements) \n"
   ]
  }
 ],
 "metadata": {
  "kernelspec": {
   "display_name": "Python 3",
   "language": "python",
   "name": "python3"
  },
  "language_info": {
   "codemirror_mode": {
    "name": "ipython",
    "version": 3
   },
   "file_extension": ".py",
   "mimetype": "text/x-python",
   "name": "python",
   "nbconvert_exporter": "python",
   "pygments_lexer": "ipython3",
   "version": "3.7.6"
  }
 },
 "nbformat": 4,
 "nbformat_minor": 4
}
