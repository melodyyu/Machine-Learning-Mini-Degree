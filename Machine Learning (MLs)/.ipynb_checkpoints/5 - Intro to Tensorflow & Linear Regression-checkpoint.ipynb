{
 "cells": [
  {
   "cell_type": "markdown",
   "metadata": {},
   "source": [
    "## What is Tensorflow?\n",
    "Library for numerical computation. Known for its ML applications \n",
    "- (As of 2019) is integrated closely with keras, a high-level ML library.\n",
    "- Contains all components necessary to build, train and test a variety of ML models\n",
    "\n",
    "### Why use Tensorflow?\n",
    "- Makes ML models easier than building them from scratch\n",
    "- Has pre-implemented algorithms, model structures, etc\n",
    "- Most used ML library\n",
    "- Is a basic library that serves as the basis for higher-level ML libraries like Keras \n",
    "\n",
    "\n",
    "### How to use Tensorflow?\n",
    "- Install the Tensorflow library (it's free and open source)\n",
    "- Import Tensorflow into any Python file \n",
    "- Can access anything Tensorflow related with tf.<insert>\n",
    "- Comes with built in datatypes (i.e tf.float32 or tf.string) \n",
    "- Evaluated Tensorflow units are called \"tensors\" (are vectors or list of values) \n",
    "- Every node produces a Tensor when evaluated\n"
   ]
  },
  {
   "cell_type": "markdown",
   "metadata": {},
   "source": [
    "## Linear Regression \n",
    "Fitting a line through data to minimize the average distance between all points and the line \n",
    "- Corresponds with a line of best fit \n",
    "- Used for predictive models \n",
    "- Simple linear regression takes in a single independent (x-axis) and dependent variable (y-axis)\n",
    "\n",
    "### Its workings\n",
    "- Start by plotting data on a graph, typically use a scatter plot \n",
    "- Draw a line through data such that there is an even number of data above and below the line\n",
    "- The error of the linear regression is the abs value of distance between each point's y value and the line and that point (essentially the diff in each y value's point) \n",
    "- Line is adjusted by changing the y-intercept and slope in order to minimize the error \n",
    "- Note the line does not have to start on (0,0) \n",
    "\n",
    "### What is gradient descent? \n",
    "Optimization algorithm to find the minimum of a function \n",
    "- with Linear Regression, we use this to find the minimum error to therefore draw the line of best fit\n",
    "- when we use a Gradient Descent optimizer function, the slope and y-intercept will be changed as to get the optimal line through the data.\n",
    "- Generally: the error decreases sharply and then slows down, as slope decreases over time \n"
   ]
  },
  {
   "cell_type": "code",
   "execution_count": null,
   "metadata": {},
   "outputs": [],
   "source": []
  }
 ],
 "metadata": {
  "kernelspec": {
   "display_name": "Python 3",
   "language": "python",
   "name": "python3"
  },
  "language_info": {
   "codemirror_mode": {
    "name": "ipython",
    "version": 3
   },
   "file_extension": ".py",
   "mimetype": "text/x-python",
   "name": "python",
   "nbconvert_exporter": "python",
   "pygments_lexer": "ipython3",
   "version": "3.7.6"
  }
 },
 "nbformat": 4,
 "nbformat_minor": 4
}
