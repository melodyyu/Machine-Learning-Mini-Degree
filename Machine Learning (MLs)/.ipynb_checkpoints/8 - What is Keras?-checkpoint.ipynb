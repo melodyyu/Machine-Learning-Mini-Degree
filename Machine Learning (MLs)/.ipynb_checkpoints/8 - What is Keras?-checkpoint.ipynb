{
 "cells": [
  {
   "cell_type": "markdown",
   "metadata": {},
   "source": [
    "## What is Keras?\n",
    "**Keras**: higher-level (diverse options, but limited specifiability) ML library aimed at rapid construction and deployment of neural networks\n",
    "- Provides a more abstract interafce\n",
    "- Takes a more modular approach by grouping functionality into objects\n",
    "- Can be run with other backends, but Tensorflow is the most popular \n",
    "\n",
    "### Its benefits: \n",
    "- Easier to use than Tensorflow (its modular approach makes it easy to build models layer by layer) \n",
    "- Has built-in functions to train, test and evaluate models \n",
    "- Tensorflow 2.0 is closely integrated with Keras and calls upon Keras functionality in many models and datasets \n",
    "\n",
    "### How to obtain\n",
    "- Comes with Tensorflow or can be found under tf.keras "
   ]
  }
 ],
 "metadata": {
  "kernelspec": {
   "display_name": "Python 3",
   "language": "python",
   "name": "python3"
  },
  "language_info": {
   "codemirror_mode": {
    "name": "ipython",
    "version": 3
   },
   "file_extension": ".py",
   "mimetype": "text/x-python",
   "name": "python",
   "nbconvert_exporter": "python",
   "pygments_lexer": "ipython3",
   "version": "3.7.6"
  }
 },
 "nbformat": 4,
 "nbformat_minor": 4
}
