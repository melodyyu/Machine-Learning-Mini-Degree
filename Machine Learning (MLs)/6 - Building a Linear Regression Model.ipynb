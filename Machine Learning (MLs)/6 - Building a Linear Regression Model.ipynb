{
 "cells": [
  {
   "cell_type": "code",
   "execution_count": 18,
   "metadata": {},
   "outputs": [],
   "source": [
    "import tensorflow as tf \n",
    "import matplotlib.pyplot as plt\n",
    "import numpy as np "
   ]
  },
  {
   "cell_type": "markdown",
   "metadata": {},
   "source": [
    "### Part 1 - Gathering Data\n",
    "- Create some data for our model\n",
    "- Use numpy linspace to generate some points\n",
    "- Plot the points on the graph"
   ]
  },
  {
   "cell_type": "code",
   "execution_count": 19,
   "metadata": {},
   "outputs": [],
   "source": [
    "#Create numpy datapoints (labels) using linspace(min, max, # of datapoints) \n",
    "x = np.linspace(0,4,100) #inputs \n",
    "\n",
    "m = 2 \n",
    "b = 0.5\n",
    "#y follows the y=mx+b formula \n",
    "#y = m * x + b --> returns a linear map \n",
    "\n",
    "#we want to generate noise to make the data more realistic. \n",
    "y = m * x + b + np.random.randn(*x.shape) + 0.25 #x.shape picks random number between (0,100)"
   ]
  },
  {
   "cell_type": "code",
   "execution_count": 20,
   "metadata": {},
   "outputs": [
    {
     "data": {
      "text/plain": [
       "<matplotlib.collections.PathCollection at 0x6425ff150>"
      ]
     },
     "execution_count": 20,
     "metadata": {},
     "output_type": "execute_result"
    },
    {
     "data": {
      "image/png": "[encoded data removed]",
      "text/plain": [
       "<Figure size 432x288 with 1 Axes>"
      ]
     },
     "metadata": {
      "needs_background": "light"
     },
     "output_type": "display_data"
    }
   ],
   "source": [
    "#Plot points on graph \n",
    "plt.scatter(x,y)"
   ]
  },
  {
   "cell_type": "markdown",
   "metadata": {},
   "source": [
    "### Part 2 - Variable Nodes\n",
    "- Learn about Tensorflow variable nodes\n",
    "- Provide a way to store values that may change in a graph\n",
    "- Can assign initial values, data types, names, etc\n",
    "- We will use these to store biases and weights "
   ]
  },
  {
   "cell_type": "markdown",
   "metadata": {},
   "source": [
    "### Part 3 - Adding the Operations \n",
    "- Build an operation node for model output \n",
    "- Node will contain results of y=mx+b \n",
    "- Combine together with variable nodes to create the main part of the model "
   ]
  },
  {
   "cell_type": "code",
   "execution_count": 21,
   "metadata": {},
   "outputs": [],
   "source": [
    "#Create variables. First, create a Model class \n",
    "class Model:\n",
    "    def __init__(self):     #self = the object that calls it \n",
    "        #create weight and bias variable with an arbitrary value (note: weight is \"m\" and bias is \"b\" in y=mx+b)\n",
    "        self.weight = tf.Variable(10.0) #value needs to be >0 \n",
    "        self.bias = tf.Variable(10.0)\n",
    "        \n",
    "#Take the value and replace the current value. Used to adjust weights and biases \n",
    "#self.weight.assign_sub(15.0)\n",
    "\n",
    "    #Operation node for model output \n",
    "    def __call__(self,x):\n",
    "        #combine the results of y = mx+b \n",
    "        return self.weight * x + self.bias #the mx+b formula with the variables inputted \n",
    "    \n",
    "    \n",
    "#model = Model()\n",
    "#model(5.0) #Calls the output function with 5.0 as your self \n",
    "\n",
    "#Big picture: model calls the output function on itself to see if its weights and biases match up with the expected\n"
   ]
  },
  {
   "cell_type": "markdown",
   "metadata": {},
   "source": [
    "### Part 4 - Loss Function\n",
    "- Write a loss function to find the error and fix it \n",
    "- Used during training to modify weights and biases \n",
    "- Uses gradient descent "
   ]
  },
  {
   "cell_type": "code",
   "execution_count": 22,
   "metadata": {},
   "outputs": [],
   "source": [
    "#Build function that allows us to calculate loss function at any point in time \n",
    "#y_actual = expected(model's) output), y_output = current output \n",
    "def calculate_loss(y_actual, y_output):\n",
    "    #return tf.square(y_actual - y_output) #need to ensure positive. \n",
    "    return tf.reduce_mean(tf.square(y_actual - y_output)) #take sqrt of average of all the points \n",
    "\n",
    "# Big picture: Looks at the distance between points and linear regression model by summing the distances and \n",
    "# looking at it as a single value "
   ]
  },
  {
   "cell_type": "markdown",
   "metadata": {},
   "source": [
    "### Part 5 - Training\n",
    "- Build the training loop\n",
    "- Train the model to adjust the weights and biases \n"
   ]
  },
  {
   "cell_type": "code",
   "execution_count": 23,
   "metadata": {},
   "outputs": [],
   "source": [
    "#Create training *function* (not loop) \n",
    "def train(model, x, y, learning_rate):\n",
    "#learning_rate = rate at which we adjust weights and biases. Higher = more adjustments are made, changes are made\n",
    "#quickly --> not fined tuned enough. Too low and values are processed too slowly \n",
    "    with tf.GradientTape() as gt: \n",
    "        #calculate loss based on the current input\n",
    "        y_output = model(x)\n",
    "        loss = calculate_loss(y,y_output)\n",
    "        \n",
    "    #minimize loss by adjusting weights and biases and suggest closer weights and biases \n",
    "    new_weight, new_bias = gt.gradient(loss, (model.weight, model.bias))\n",
    "    #assign those new weights and biases by inputting them for current model. multiply by learning rates to \n",
    "    #regulate the learning speed to ensure there's no significant jump in learning \n",
    "    model.weight.assign_sub(new_weight * learning_rate)\n",
    "    model.bias.assign_sub(new_bias * learning_rate)"
   ]
  },
  {
   "cell_type": "markdown",
   "metadata": {},
   "source": [
    "### Part 6 - Training Loop "
   ]
  },
  {
   "cell_type": "code",
   "execution_count": 24,
   "metadata": {},
   "outputs": [
    {
     "name": "stdout",
     "output_type": "stream",
     "text": [
      "Epoch: 0, loss: 727.415771484375\n",
      "Epoch: 1, loss: 516.7831420898438\n",
      "Epoch: 2, loss: 367.4287414550781\n",
      "Epoch: 3, loss: 261.4985046386719\n",
      "Epoch: 4, loss: 186.34390258789062\n",
      "Epoch: 5, loss: 133.0036163330078\n",
      "Epoch: 6, loss: 95.12830352783203\n",
      "Epoch: 7, loss: 68.21887969970703\n",
      "Epoch: 8, loss: 49.087188720703125\n",
      "Epoch: 9, loss: 35.473690032958984\n",
      "Epoch: 10, loss: 25.7767333984375\n",
      "Epoch: 11, loss: 18.86087417602539\n",
      "Epoch: 12, loss: 13.920960426330566\n",
      "Epoch: 13, loss: 10.385937690734863\n",
      "Epoch: 14, loss: 7.850627422332764\n",
      "Epoch: 15, loss: 6.027458667755127\n",
      "Epoch: 16, loss: 4.712223052978516\n",
      "Epoch: 17, loss: 3.759822368621826\n",
      "Epoch: 18, loss: 3.06709361076355\n",
      "Epoch: 19, loss: 2.56062388420105\n",
      "Epoch: 20, loss: 2.1881113052368164\n",
      "Epoch: 21, loss: 1.9122525453567505\n",
      "Epoch: 22, loss: 1.7063968181610107\n",
      "Epoch: 23, loss: 1.5514689683914185\n",
      "Epoch: 24, loss: 1.4337859153747559\n",
      "Epoch: 25, loss: 1.3435046672821045\n",
      "Epoch: 26, loss: 1.2735224962234497\n",
      "Epoch: 27, loss: 1.218693733215332\n",
      "Epoch: 28, loss: 1.17527437210083\n",
      "Epoch: 29, loss: 1.1405256986618042\n",
      "Epoch: 30, loss: 1.1124317646026611\n",
      "Epoch: 31, loss: 1.0894988775253296\n",
      "Epoch: 32, loss: 1.0706113576889038\n",
      "Epoch: 33, loss: 1.0549293756484985\n",
      "Epoch: 34, loss: 1.041813611984253\n",
      "Epoch: 35, loss: 1.0307741165161133\n",
      "Epoch: 36, loss: 1.0214295387268066\n",
      "Epoch: 37, loss: 1.013481855392456\n",
      "Epoch: 38, loss: 1.0066946744918823\n",
      "Epoch: 39, loss: 1.000877857208252\n",
      "Epoch: 40, loss: 0.9958782196044922\n",
      "Epoch: 41, loss: 0.9915704131126404\n",
      "Epoch: 42, loss: 0.9878512620925903\n",
      "Epoch: 43, loss: 0.9846349358558655\n",
      "Epoch: 44, loss: 0.9818494915962219\n",
      "Epoch: 45, loss: 0.9794342517852783\n",
      "Epoch: 46, loss: 0.977338433265686\n",
      "Epoch: 47, loss: 0.9755181074142456\n",
      "Epoch: 48, loss: 0.9739363193511963\n",
      "Epoch: 49, loss: 0.9725608825683594\n",
      "Epoch: 50, loss: 0.9713646173477173\n",
      "Epoch: 51, loss: 0.970323383808136\n",
      "Epoch: 52, loss: 0.9694172143936157\n",
      "Epoch: 53, loss: 0.968628466129303\n",
      "Epoch: 54, loss: 0.9679414629936218\n",
      "Epoch: 55, loss: 0.9673431515693665\n",
      "Epoch: 56, loss: 0.9668222069740295\n",
      "Epoch: 57, loss: 0.9663681983947754\n",
      "Epoch: 58, loss: 0.9659728407859802\n",
      "Epoch: 59, loss: 0.9656282663345337\n",
      "Epoch: 60, loss: 0.9653281569480896\n",
      "Epoch: 61, loss: 0.9650666117668152\n",
      "Epoch: 62, loss: 0.9648388028144836\n",
      "Epoch: 63, loss: 0.9646402597427368\n",
      "Epoch: 64, loss: 0.9644672274589539\n",
      "Epoch: 65, loss: 0.9643165469169617\n",
      "Epoch: 66, loss: 0.9641851782798767\n",
      "Epoch: 67, loss: 0.964070737361908\n",
      "Epoch: 68, loss: 0.963970959186554\n",
      "Epoch: 69, loss: 0.9638839960098267\n",
      "Epoch: 70, loss: 0.9638081192970276\n",
      "Epoch: 71, loss: 0.9637421369552612\n",
      "Epoch: 72, loss: 0.963684618473053\n",
      "Epoch: 73, loss: 0.9636343121528625\n",
      "Epoch: 74, loss: 0.9635908603668213\n",
      "Epoch: 75, loss: 0.9635527729988098\n",
      "Epoch: 76, loss: 0.9635194540023804\n",
      "Epoch: 77, loss: 0.9634906053543091\n",
      "Epoch: 78, loss: 0.9634654521942139\n",
      "Epoch: 79, loss: 0.9634434580802917\n",
      "Epoch: 80, loss: 0.9634243249893188\n",
      "Epoch: 81, loss: 0.963407576084137\n",
      "Epoch: 82, loss: 0.9633930921554565\n",
      "Epoch: 83, loss: 0.9633804559707642\n",
      "Epoch: 84, loss: 0.9633694291114807\n",
      "Epoch: 85, loss: 0.9633596539497375\n",
      "Epoch: 86, loss: 0.963351309299469\n",
      "Epoch: 87, loss: 0.9633440971374512\n",
      "Epoch: 88, loss: 0.9633377194404602\n",
      "Epoch: 89, loss: 0.9633320569992065\n",
      "Epoch: 90, loss: 0.9633273482322693\n",
      "Epoch: 91, loss: 0.9633230566978455\n",
      "Epoch: 92, loss: 0.9633194804191589\n",
      "Epoch: 93, loss: 0.9633162617683411\n",
      "Epoch: 94, loss: 0.9633134603500366\n",
      "Epoch: 95, loss: 0.9633111357688904\n",
      "Epoch: 96, loss: 0.9633090496063232\n",
      "Epoch: 97, loss: 0.9633071422576904\n",
      "Epoch: 98, loss: 0.9633054137229919\n",
      "Epoch: 99, loss: 0.9633039832115173\n"
     ]
    }
   ],
   "source": [
    "#Create the training loop\n",
    "model = Model()\n",
    "epochs = 100 #reminder: number of times you want to run through data \n",
    "learning_rate = 0.15 \n",
    "for epoch in range(epochs):\n",
    "    \n",
    "    #see how well the model is doing \n",
    "    y_output = model(x)\n",
    "    loss = calculate_loss(y, y_output)\n",
    "    print(f\"Epoch: {epoch}, loss: {loss.numpy()}\")\n",
    "    \n",
    "    #run the training model \n",
    "    train(model, x, y, learning_rate)\n",
    "    "
   ]
  },
  {
   "cell_type": "markdown",
   "metadata": {},
   "source": [
    "### Part 7 - Testing and Evaluating \n",
    "- Evaluate performance of the model \n",
    "- Test with some new data "
   ]
  },
  {
   "cell_type": "code",
   "execution_count": 27,
   "metadata": {},
   "outputs": [
    {
     "name": "stdout",
     "output_type": "stream",
     "text": [
      "2.0692506\n",
      "0.54589504\n"
     ]
    }
   ],
   "source": [
    "#See how well model is performing\n",
    "print(model.weight.numpy()) #Remember: desired weight is 2 \n",
    "print(model.bias.numpy()) #Remember: desired bias is 0.5 \n",
    "\n",
    "#Conclusion: model is doing well as the weights and biases are close to the original desired weights and biases "
   ]
  },
  {
   "cell_type": "code",
   "execution_count": 30,
   "metadata": {},
   "outputs": [
    {
     "data": {
      "text/plain": [
       "<matplotlib.collections.PathCollection at 0x642901250>"
      ]
     },
     "execution_count": 30,
     "metadata": {},
     "output_type": "execute_result"
    },
    {
     "data": {
      "image/png": "[encoded data removed]",
      "text/plain": [
       "<Figure size 432x288 with 1 Axes>"
      ]
     },
     "metadata": {
      "needs_background": "light"
     },
     "output_type": "display_data"
    }
   ],
   "source": [
    "#Try with new data \n",
    "new_x = np.linspace(0,4,50)\n",
    "new_y = model.weight.numpy() * new_x + model.bias.numpy() \n",
    "plt.scatter(new_x, new_y)\n",
    "#Compare with the original dataset \n",
    "plt.scatter(x,y)"
   ]
  },
  {
   "cell_type": "markdown",
   "metadata": {},
   "source": [
    "### 8 - Possible improvements\n",
    "- Decrease learning rate (allows finer adjustments) and increase epochs (need both adjustments to see results)\n",
    "- Restructure whole model to optimize\n",
    "- Pass in more data points <br> "
   ]
  }
 ],
 "metadata": {
  "kernelspec": {
   "display_name": "Python 3",
   "language": "python",
   "name": "python3"
  },
  "language_info": {
   "codemirror_mode": {
    "name": "ipython",
    "version": 3
   },
   "file_extension": ".py",
   "mimetype": "text/x-python",
   "name": "python",
   "nbconvert_exporter": "python",
   "pygments_lexer": "ipython3",
   "version": "3.7.6"
  }
 },
 "nbformat": 4,
 "nbformat_minor": 4
}
