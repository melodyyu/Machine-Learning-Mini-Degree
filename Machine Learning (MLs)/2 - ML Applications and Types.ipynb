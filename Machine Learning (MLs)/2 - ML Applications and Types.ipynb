{
 "cells": [
  {
   "cell_type": "markdown",
   "metadata": {},
   "source": [
    "## What is Machine Learning?\n",
    "**Machine Learning**: The study of statistics and algorithms aimed at performing a task without being explicitly programmed to <br> \n",
    "- Casual def: finding patterns in data that solve a problem without us necessarily writing the algorithm to find the patterns and solve the problem\n",
    "- Essentially, it's pattern recognition. \n",
    "<br>\n",
    "\n",
    "What do you need? \n",
    "- Train the model == feed data into model to increase its performance over time without modifying the algorithm itself. <br> \n",
    "Note: if a machine produces bettter results after training with the same algorithm, it is said to have learned\n",
    "<br>\n"
   ]
  },
  {
   "cell_type": "markdown",
   "metadata": {},
   "source": [
    "## ML Application and Examples\n",
    "What are its applications?\n",
    "- Process data quicker and recognize patterns better than humans \n",
    "- Ideal for solving problems in domain of: \n",
    "    - Prediction\n",
    "    - Classification\n",
    "    - Customization\n",
    "    - Translation\n",
    "    - Game AI/General AI \n",
    "    \n",
    "\n",
    "### Prediction:\n",
    "Guessing what some value wil be in the future\n",
    "- Future predictions are made under the assumption that history will repeat itself (i.e x causes y. If x occurs, we expect y to happen again)\n",
    "- Examines previous data to see what kind of outputs should conclude based on given various inputs. Theoretically, if there's similar inputs, there should be similar outputs as well. <br> \n",
    "\n",
    "Example:\n",
    "- stock market prediction (i.e if a price moves in the past, we should be able to predict if the price moves) \n",
    "\n",
    "### Classification\n",
    "Grouping items into categories based on a predetermined set of features\n",
    "- Difficulty depends on the type of features used. \n",
    "- For ML, it's easier for a machine's program to classify than a human's algorithm\n",
    "<br>\n",
    "Example: \n",
    "- image recognition (i.e while humans can recognize a tree based on previous experience, ML recognizes images based in patterns of previously-seen pixel values) \n",
    "\n",
    "### Customization: \n",
    "Provide an experience tailored to the user\n",
    "- Generally takes the user's previous habits and adjusts its decisions based on that\n",
    "- Similar to prediction, it attempts to predict your habits or future actions\n",
    "- Currently, models can only customize one or two things at a time \n",
    "Example:\n",
    "- targeted ads (i.e takes previous choices/views to provide similar items that the program thinks the user would have an interest in) \n",
    "\n",
    "### Translation:\n",
    "Inputting some language and outputting the equivalent in another language\n",
    "- Difficult when translations are not direct (i.e when sentence structure is different or when genders/conjugation is neccessary)\n",
    "- There's a medium language that the program first converts to, in which it translates to the desired language afterwards \n",
    "- Typically encoder-decoder structure\n",
    "Example:\n",
    "- language translation (i.e attempting to translate between Chinese and English is difficult, lots of meaning is lost)"
   ]
  },
  {
   "cell_type": "markdown",
   "metadata": {},
   "source": [
    "### Game AI:\n",
    "AI that makes decisions based on some process of deduction and reasoning \n",
    "- Note: AI =/= ML. AI uses ML, but ML doesn't really deduce/reason (it simply processes fed information)\n",
    "- Respond to user's behavior and changes to accomodate \n",
    "- Are trained to attempt to win. They will put into play, previous steps that they have taken to win \n",
    "- Computers are better than humans for game AIs bc they can compute multiple scenarios faster\n",
    "\n",
    "Example:\n",
    "- chess AI (its play style is based on millions of previous games and chooses strategies that produce the highest chance of winning)"
   ]
  },
  {
   "cell_type": "markdown",
   "metadata": {},
   "source": [
    "## Types of ML \n",
    "All try to find patterns in data, but have different goals/algorithms/training methods. \n",
    "1. Supervised: right/wrong answer. training\n",
    "2. Unsupervised: no right/wrong answer. pattern recognition.\n",
    "3. Reinforcement: achieve specific goal. training. \n",
    "\n",
    "**Supervised Learning**:\n",
    "Feed inputs and expected outputs (label) into model\n",
    "- clear end goal: a number to predict or a cateogry to put an item into\n",
    "- during training: model attempts to match outuputs to labels by modifying internal values\n",
    "- essentially, tell the model what to expect, given a specific input and it'll try to match you\n",
    "When would we see this? \n",
    "- It's the most commonly used \n",
    "- In classification/prediction problems (i.e. regressions)\n",
    "- Types of algorithms used: linear regression, decision tree, K-nearest-neighbours \n",
    "\n",
    "**Unsupervised Learning**: \n",
    "Feed raw data into model (like learning without a teacher) \n",
    "- No clear expected output (no right/wrong answer, simply looks for relationships)\n",
    "- No training involved \n",
    "- Great at grouping, clustering data to find patterns \n",
    "When would we see this?\n",
    "- Not as common\n",
    "- In clustering and data compression algorithms \n",
    "- Types of algorithms used: Apriori and K-means \n",
    "\n",
    "**Reinforcement Learning**: \n",
    "Feeds input and often, a rewarding mechanism \n",
    "- Goal: maximize the reward \n",
    "- During training: model learns through trial and error on how to achieve the highest reward score \n",
    "- There's always some kind of environment that keeps track of its state to see how changes affects the state and adjust according to that. \n",
    "When would we see this?\n",
    "- Used commonly for game AI or any behavior-reward type situations \n",
    "EX: Markov Decision Process (if decision A gives a low reward we'll be less likely to do that than if decision B gives us a high reward) "
   ]
  }
 ],
 "metadata": {
  "kernelspec": {
   "display_name": "Python 3",
   "language": "python",
   "name": "python3"
  },
  "language_info": {
   "codemirror_mode": {
    "name": "ipython",
    "version": 3
   },
   "file_extension": ".py",
   "mimetype": "text/x-python",
   "name": "python",
   "nbconvert_exporter": "python",
   "pygments_lexer": "ipython3",
   "version": "3.7.6"
  }
 },
 "nbformat": 4,
 "nbformat_minor": 4
}
